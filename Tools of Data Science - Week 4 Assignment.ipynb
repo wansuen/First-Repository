{
 "cells": [
  {
   "cell_type": "markdown",
   "id": "569b9252-f4c9-40ca-8f2d-f996b4cd8048",
   "metadata": {
    "tags": []
   },
   "source": [
    "# My Jupyter Notebook on IBM Watson Studio"
   ]
  },
  {
   "cell_type": "markdown",
   "id": "bd280c3f-09e2-4bb0-b09e-3fe747f164f4",
   "metadata": {},
   "source": [
    "**Justin Ling**"
   ]
  },
  {
   "cell_type": "markdown",
   "id": "7839b7c6-c533-45f8-b217-2c415ee29991",
   "metadata": {},
   "source": [
    "*I am interested in data science because I would like to combine my interest in computer science and stats with my education in medicine and work in clinical data science.*"
   ]
  },
  {
   "cell_type": "markdown",
   "id": "39976df8-50b8-40c9-9cf1-bb6d3d0537f4",
   "metadata": {},
   "source": [
    "### The cell below will add 1 + 1 and show the result"
   ]
  },
  {
   "cell_type": "code",
   "execution_count": 4,
   "id": "0c8c17b9-e21f-4977-91b1-63026c10f24f",
   "metadata": {},
   "outputs": [
    {
     "data": {
      "text/plain": [
       "2"
      ]
     },
     "execution_count": 4,
     "metadata": {},
     "output_type": "execute_result"
    }
   ],
   "source": [
    "1+1"
   ]
  },
  {
   "cell_type": "markdown",
   "id": "8055b0d0-8816-4854-bd8a-03e1f8995b7b",
   "metadata": {},
   "source": [
    "___\n",
    "* Item 1\n",
    "* ~~Item 2~~\n",
    "* Item 3\n",
    "___\n",
    "\n",
    "My favorite google site is: <a href=\"google.com\">google.com</a>"
   ]
  }
 ],
 "metadata": {
  "kernelspec": {
   "display_name": "Python",
   "language": "python",
   "name": "conda-env-python-py"
  },
  "language_info": {
   "codemirror_mode": {
    "name": "ipython",
    "version": 3
   },
   "file_extension": ".py",
   "mimetype": "text/x-python",
   "name": "python",
   "nbconvert_exporter": "python",
   "pygments_lexer": "ipython3",
   "version": "3.7.12"
  }
 },
 "nbformat": 4,
 "nbformat_minor": 5
}
